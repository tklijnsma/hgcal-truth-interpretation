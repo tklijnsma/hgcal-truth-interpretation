{
 "cells": [
  {
   "cell_type": "code",
   "execution_count": 1,
   "metadata": {},
   "outputs": [
    {
     "name": "stderr",
     "output_type": "stream",
     "text": [
      "\u001b[33m   INFO:2020-08-13 15:13:37:ntuputils:39\u001b[0m Using tqdm notebook\n"
     ]
    }
   ],
   "source": [
    "import importlib\n",
    "import ntuputils"
   ]
  },
  {
   "cell_type": "code",
   "execution_count": 2,
   "metadata": {},
   "outputs": [
    {
     "name": "stderr",
     "output_type": "stream",
     "text": [
      "\u001b[33m   INFO:2020-08-13 15:13:37:ntuputils:16\u001b[0m Logger hgcalplot is already defined\n",
      "\u001b[33m   INFO:2020-08-13 15:13:37:ntuputils:39\u001b[0m Using tqdm notebook\n"
     ]
    },
    {
     "data": {
      "text/plain": [
       "<module 'ntuputils' from '/uscms_data/d3/klijnsma/hgcal/history/flatntup-interpretation/ntuputils.py'>"
      ]
     },
     "execution_count": 2,
     "metadata": {},
     "output_type": "execute_result"
    }
   ],
   "source": [
    "importlib.reload(ntuputils)"
   ]
  },
  {
   "cell_type": "code",
   "execution_count": 98,
   "metadata": {},
   "outputs": [
    {
     "name": "stderr",
     "output_type": "stream",
     "text": [
      "\u001b[33m   INFO:2020-08-06 13:41:26:ntuputils:16\u001b[0m Logger hgcalplot is already defined\n",
      "\u001b[33m   INFO:2020-08-06 13:41:26:ntuputils:39\u001b[0m Using tqdm notebook\n",
      "\u001b[33m   INFO:2020-08-06 13:41:27:ntuputils:160\u001b[0m Overwriting cache for <ntuputils.Dataset (838 root files) object at 0x7fd6c4876e10>\n"
     ]
    },
    {
     "data": {
      "application/vnd.jupyter.widget-view+json": {
       "model_id": "4c80a6479e8f4764a9c2f146a9bac08e",
       "version_major": 2,
       "version_minor": 0
      },
      "text/plain": [
       "HBox(children=(FloatProgress(value=0.0, description='root files', style=ProgressStyle(description_width='initi…"
      ]
     },
     "metadata": {},
     "output_type": "display_data"
    },
    {
     "name": "stderr",
     "output_type": "stream",
     "text": [
      "\u001b[33m   INFO:2020-08-06 13:41:39:ntuputils:172\u001b[0m Cached ~16.4 Mb (100 entries, 46 branches)\n"
     ]
    },
    {
     "name": "stdout",
     "output_type": "stream",
     "text": [
      "\n"
     ]
    }
   ],
   "source": [
    "importlib.reload(ntuputils)\n",
    "data = ntuputils.Dataset(\n",
    "    'root://cmseos.fnal.gov//store/user/klijnsma/hgcal/history/Aug05_muonalltracks_pt1000/*.root',\n",
    "    n_files=100\n",
    "    )"
   ]
  },
  {
   "cell_type": "code",
   "execution_count": 103,
   "metadata": {
    "scrolled": false
   },
   "outputs": [
    {
     "name": "stderr",
     "output_type": "stream",
     "text": [
      "\u001b[33m   INFO:2020-08-06 13:47:49:ntuputils:16\u001b[0m Logger hgcalplot is already defined\n",
      "\u001b[33m   INFO:2020-08-06 13:47:49:ntuputils:39\u001b[0m Using tqdm notebook\n"
     ]
    },
    {
     "data": {
      "application/vnd.jupyter.widget-view+json": {
       "model_id": "59a4102467464b75a2ce9ba6c340398e",
       "version_major": 2,
       "version_minor": 0
      },
      "text/plain": [
       "HBox(children=(FloatProgress(value=0.0, description='arrays', style=ProgressStyle(description_width='initial')…"
      ]
     },
     "metadata": {},
     "output_type": "display_data"
    },
    {
     "name": "stdout",
     "output_type": "stream",
     "text": [
      "\n"
     ]
    }
   ],
   "source": [
    "import matplotlib.pyplot as plt\n",
    "importlib.reload(ntuputils)\n",
    "# event = data.get_event(0)\n",
    "\n",
    "with ntuputils.save_plots(dir='testplots'):\n",
    "    with ntuputils.temporarily_set_loglevel():\n",
    "        for i, event in enumerate(data.iterate_events()):\n",
    "            ntuputils.filter_tracks_to_origin(event, inplace=True)\n",
    "            fig = ntuputils.Plot3DSingleEndcap.plot_both_endcaps(\n",
    "                event, trim_tracks='both', title='plot3d_{}'.format(i) + '_noZeroTracks'\n",
    "                )\n",
    "            plt.close()\n",
    "            if i == 30: break"
   ]
  },
  {
   "cell_type": "code",
   "execution_count": 106,
   "metadata": {},
   "outputs": [
    {
     "data": {
      "text/plain": [
       "'root://cmseos.fnal.gov//store/user/klijnsma/hgcal/history/Aug05_muonalltracks_pt1000/12_0_seed1300000.root'"
      ]
     },
     "execution_count": 106,
     "metadata": {},
     "output_type": "execute_result"
    }
   ],
   "source": [
    "data.rootfiles[30]"
   ]
  },
  {
   "cell_type": "code",
   "execution_count": null,
   "metadata": {},
   "outputs": [],
   "source": []
  },
  {
   "cell_type": "code",
   "execution_count": 3,
   "metadata": {},
   "outputs": [
    {
     "name": "stderr",
     "output_type": "stream",
     "text": [
      "\u001b[33m   INFO:2020-08-13 15:13:40:ntuputils:160\u001b[0m Overwriting cache for <ntuputils.Dataset (1 root files) object at 0x7f27cb304438>\n"
     ]
    },
    {
     "data": {
      "application/vnd.jupyter.widget-view+json": {
       "model_id": "2de6d6016ebf4feabc8bb17bbcf3e57d",
       "version_major": 2,
       "version_minor": 0
      },
      "text/plain": [
       "HBox(children=(FloatProgress(value=0.0, description='root files', max=1.0, style=ProgressStyle(description_wid…"
      ]
     },
     "metadata": {},
     "output_type": "display_data"
    },
    {
     "name": "stderr",
     "output_type": "stream",
     "text": [
      "\u001b[33m   INFO:2020-08-13 15:13:42:ntuputils:172\u001b[0m Cached ~395.9 kb (1 entries, 46 branches)\n",
      "\u001b[33m   INFO:2020-08-13 15:13:42:ntuputils:160\u001b[0m Overwriting cache for <ntuputils.Dataset (1 root files) object at 0x7f27c8180f28>\n"
     ]
    },
    {
     "name": "stdout",
     "output_type": "stream",
     "text": [
      "\n"
     ]
    },
    {
     "data": {
      "application/vnd.jupyter.widget-view+json": {
       "model_id": "7185daaa988e43918c7976cb40399935",
       "version_major": 2,
       "version_minor": 0
      },
      "text/plain": [
       "HBox(children=(FloatProgress(value=0.0, description='root files', max=1.0, style=ProgressStyle(description_wid…"
      ]
     },
     "metadata": {},
     "output_type": "display_data"
    },
    {
     "name": "stderr",
     "output_type": "stream",
     "text": [
      "\u001b[33m   INFO:2020-08-13 15:13:43:ntuputils:172\u001b[0m Cached ~395.9 kb (1 entries, 46 branches)\n",
      "\u001b[33m   INFO:2020-08-13 15:13:43:ntuputils:160\u001b[0m Overwriting cache for <ntuputils.Dataset (1 root files) object at 0x7f27c807afd0>\n"
     ]
    },
    {
     "name": "stdout",
     "output_type": "stream",
     "text": [
      "\n"
     ]
    },
    {
     "data": {
      "application/vnd.jupyter.widget-view+json": {
       "model_id": "b29151df3ee547d8baead98f8afbf90b",
       "version_major": 2,
       "version_minor": 0
      },
      "text/plain": [
       "HBox(children=(FloatProgress(value=0.0, description='root files', max=1.0, style=ProgressStyle(description_wid…"
      ]
     },
     "metadata": {},
     "output_type": "display_data"
    },
    {
     "name": "stderr",
     "output_type": "stream",
     "text": [
      "\u001b[33m   INFO:2020-08-13 15:13:44:ntuputils:172\u001b[0m Cached ~3.7 Mb (1 entries, 46 branches)\n"
     ]
    },
    {
     "name": "stdout",
     "output_type": "stream",
     "text": [
      "\n"
     ]
    }
   ],
   "source": [
    "data_1300000_se = ntuputils.Dataset('root://cmseos.fnal.gov//store/user/klijnsma/hgcal/history/Aug05_muonalltracks_pt1000/12_0_seed1300000.root')\n",
    "data_1300000_local = ntuputils.Dataset('/uscms/home/klijnsma/nobackup/hgcal/history/cmssw_appending_calohit/CMSSW_11_1_0_pre6/src/HGCALDev/PCaloHitWithPostionProducer/event1300000_numEvent1_stillEminTrackLimited.root')\n",
    "data_1300000_local_forcesave = ntuputils.Dataset('/uscms/home/klijnsma/nobackup/hgcal/history/cmssw_appending_calohit/CMSSW_11_1_0_pre6/src/HGCALDev/PCaloHitWithPostionProducer/event1300000_numEvent1.root')\n",
    "\n"
   ]
  },
  {
   "cell_type": "code",
   "execution_count": 123,
   "metadata": {},
   "outputs": [],
   "source": [
    "with ntuputils.save_plots(dir='actualfineplots'):\n",
    "    with ntuputils.temporarily_set_loglevel():\n",
    "        for i, data_1300000 in enumerate([ data_1300000_local, data_1300000_se, data_1300000_local_forcesave ]):\n",
    "            event = data_1300000.get_event(0)\n",
    "            ntuputils.filter_tracks_to_origin(event, inplace=True)\n",
    "            fig = ntuputils.Plot3DSingleEndcap.plot_both_endcaps(event, trim_tracks='both', title=str(i))\n",
    "            plt.close()"
   ]
  },
  {
   "cell_type": "code",
   "execution_count": 114,
   "metadata": {},
   "outputs": [
    {
     "name": "stderr",
     "output_type": "stream",
     "text": [
      "\u001b[33m   INFO:2020-08-06 17:32:13:ntuputils:127\u001b[0m Using cache\n"
     ]
    }
   ],
   "source": [
    "event = data_1300000.get_event(0)"
   ]
  },
  {
   "cell_type": "code",
   "execution_count": 122,
   "metadata": {},
   "outputs": [
    {
     "data": {
      "text/plain": [
       "array([4])"
      ]
     },
     "execution_count": 122,
     "metadata": {},
     "output_type": "execute_result"
    }
   ],
   "source": [
    "(event[b'simtrack_z'] == 0.).count_nonzero()"
   ]
  },
  {
   "cell_type": "code",
   "execution_count": null,
   "metadata": {},
   "outputs": [],
   "source": [
    "event[b'simtrack_z']"
   ]
  }
 ],
 "metadata": {
  "kernelspec": {
   "display_name": "Python 3",
   "language": "python",
   "name": "python3"
  },
  "language_info": {
   "codemirror_mode": {
    "name": "ipython",
    "version": 3
   },
   "file_extension": ".py",
   "mimetype": "text/x-python",
   "name": "python",
   "nbconvert_exporter": "python",
   "pygments_lexer": "ipython3",
   "version": "3.6.10"
  }
 },
 "nbformat": 4,
 "nbformat_minor": 4
}
